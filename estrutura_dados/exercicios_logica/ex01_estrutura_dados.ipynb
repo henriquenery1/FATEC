{
  "nbformat": 4,
  "nbformat_minor": 0,
  "metadata": {
    "colab": {
      "provenance": []
    },
    "kernelspec": {
      "name": "python3",
      "display_name": "Python 3"
    },
    "language_info": {
      "name": "python"
    }
  },
  "cells": [
    {
      "cell_type": "code",
      "execution_count": null,
      "metadata": {
        "colab": {
          "base_uri": "https://localhost:8080/"
        },
        "id": "77gJRpLtq76K",
        "outputId": "0f926cac-5c96-4a3b-d4e4-646f6a3bd01b"
      },
      "outputs": [
        {
          "output_type": "stream",
          "name": "stdout",
          "text": [
            "Hello world!\n"
          ]
        }
      ],
      "source": [
        "print(\"Hello world!\")"
      ]
    },
    {
      "cell_type": "code",
      "source": [
        "numeros = []\n",
        "\n",
        "for i in range(5):\n",
        "    numero = int(input(\"Digite um numero: \"))\n",
        "    numeros.append(numero)\n",
        "\n",
        "numeros_ordem_crescente = sorted(numeros)\n",
        "numeros_ordem_decrescente = sorted(numeros, reverse=True)\n",
        "\n",
        "maior_numero = numeros_ordem_decrescente[0]\n",
        "menor_numero = numeros_ordem_crescente[0]\n",
        "\n",
        "soma = sum(numeros)\n",
        "\n",
        "print(\"---------------------\")\n",
        "\n",
        "print(f\"Maior numero: {maior_numero}\")\n",
        "print(f\"Menor numero: {menor_numero}\")\n",
        "print(f\"Soma dos numeros: {soma}\")\n",
        "\n",
        "print(\"---------------------\")\n",
        "\n",
        "print(f\"lista em ordem crescente {numeros_ordem_crescente}\")\n",
        "print(f\"lista em ordem decrescente {numeros_ordem_decrescente}\")\n",
        "\n",
        "pesquisa = int(input(\"Digite um numero para pesquisar na lista: \"))\n",
        "\n",
        "if pesquisa in numeros:\n",
        "    print(f\"O numero {pesquisa} esta na lista\")\n",
        "else:\n",
        "    print(f\"O numero {pesquisa} nao esta na lista\")"
      ],
      "metadata": {
        "id": "qv2XZ6HvrFLX",
        "colab": {
          "base_uri": "https://localhost:8080/"
        },
        "outputId": "a9addf50-5cd6-4789-8334-fcbb5056dab4"
      },
      "execution_count": 9,
      "outputs": [
        {
          "output_type": "stream",
          "name": "stdout",
          "text": [
            "Digite um numero: 45\n",
            "Digite um numero: 7\n",
            "Digite um numero: 9\n",
            "Digite um numero: 6\n",
            "Digite um numero: 3\n",
            "---------------------\n",
            "Maior numero: 45\n",
            "Menor numero: 3\n",
            "Soma dos numeros: 70\n",
            "---------------------\n",
            "lista em ordem crescente [3, 6, 7, 9, 45]\n",
            "lista em ordem decrescente [45, 9, 7, 6, 3]\n",
            "Digite um numero para pesquisar na lista: 3\n",
            "O numero 3 esta na lista\n"
          ]
        }
      ]
    }
  ]
}