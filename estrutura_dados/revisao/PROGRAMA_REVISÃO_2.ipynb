{
  "nbformat": 4,
  "nbformat_minor": 0,
  "metadata": {
    "colab": {
      "provenance": [],
      "toc_visible": true
    },
    "kernelspec": {
      "name": "python3",
      "display_name": "Python 3"
    },
    "language_info": {
      "name": "python"
    }
  },
  "cells": [
    {
      "cell_type": "code",
      "execution_count": null,
      "metadata": {
        "id": "aaJ8joIEnsay",
        "colab": {
          "base_uri": "https://localhost:8080/"
        },
        "outputId": "c4b0e159-1de5-4843-abf7-c535e023a5f3"
      },
      "outputs": [
        {
          "output_type": "stream",
          "name": "stdout",
          "text": [
            "Digite 20 numeros\n",
            "Digite um numero 1:1930\n",
            "Digite um numero 2:1935\n",
            "Digite um numero 3:1992\n",
            "Digite um numero 4:1993\n",
            "Digite um numero 5:2005\n",
            "Digite um numero 6:1977\n",
            "Digite um numero 7:1986\n",
            "Digite um numero 8:1991\n",
            "Digite um numero 9:2006\n",
            "Digite um numero 10:2007\n",
            "Digite um numero 11:2008\n",
            "Digite um numero 12:2023\n",
            "Digite um numero 13:2012\n",
            "Digite um numero 14:1\n",
            "Digite um numero 15:5\n",
            "Digite um numero 16:25\n",
            "Digite um numero 17:69\n",
            "Digite um numero 18:51\n",
            "Digite um numero 19:99\n",
            "Digite um numero 20:450\n",
            "Numeros em ordem crescente: [1, 5, 25, 51, 69, 99, 450, 1930, 1935, 1977, 1986, 1991, 1992, 1993, 2005, 2006, 2007, 2008, 2012, 2023]\n",
            "Numeros em ordem decrescente: [2023, 2012, 2008, 2007, 2006, 2005, 1993, 1992, 1991, 1986, 1977, 1935, 1930, 450, 99, 69, 51, 25, 5, 1]\n",
            "A soma dos numeros é: 26565\n",
            "O maior numero é: 2023\n",
            "O menor numero é: 1\n",
            "Digite o numero que deseja pesquisar:6\n",
            "o numero 6 não foi encontrado\n"
          ]
        }
      ],
      "source": [
        "numeros = []\n",
        "\n",
        "print(\"Digite 20 numeros\")\n",
        "for i in range(20):\n",
        "  numero = int(input(f\"Digite um numero {i + 1}:\"))\n",
        "  numeros.append(numero)\n",
        "\n",
        "for i in range(len(numeros)):\n",
        "    for j in range(i + 1, len(numeros)):\n",
        "        if numeros[i] > numeros[j]:\n",
        "            numeros[i], numeros[j] = numeros[j], numeros[i]\n",
        "\n",
        "print(f\"Numeros em ordem crescente: {numeros}\")\n",
        "\n",
        "\n",
        "for i in range(len(numeros)):\n",
        "   for j in range(i + 1, len(numeros)):\n",
        "    if numeros[i] < numeros[j]:\n",
        "      numeros[i], numeros[j] = numeros[j], numeros[i]\n",
        "\n",
        "print(f\"Numeros em ordem decrescente: {numeros}\")\n",
        "\n",
        "soma = 0\n",
        "for numero in numeros:\n",
        "  soma += numero\n",
        "\n",
        "print(f\"A soma dos numeros é: {soma}\")\n",
        "\n",
        "maior_numero = numeros[0]\n",
        "menor_numero = numeros[0]\n",
        "for numero in numeros:\n",
        "  if numero > maior_numero:\n",
        "    maior_numero = numero\n",
        "  if numero < menor_numero:\n",
        "    menor_numero = numero\n",
        "\n",
        "print(f\"O maior numero é: {maior_numero}\")\n",
        "print(f\"O menor numero é: {menor_numero}\")\n",
        "\n",
        "pesquisa = int(input(\"Digite o numero que deseja pesquisar:\"))\n",
        "if pesquisa in numeros:\n",
        "  print(f\"o numero {pesquisa} foi encontrado\")\n",
        "else:\n",
        "  print(f\"o numero {pesquisa} não foi encontrado\")"
      ]
    }
  ]
}