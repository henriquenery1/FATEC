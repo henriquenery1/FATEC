{
  "nbformat": 4,
  "nbformat_minor": 0,
  "metadata": {
    "colab": {
      "provenance": []
    },
    "kernelspec": {
      "name": "python3",
      "display_name": "Python 3"
    },
    "language_info": {
      "name": "python"
    }
  },
  "cells": [
    {
      "cell_type": "code",
      "execution_count": 1,
      "metadata": {
        "colab": {
          "base_uri": "https://localhost:8080/"
        },
        "id": "MhIIbueOK5HC",
        "outputId": "b02985b0-9967-4eb7-c6d0-9b7662298cc5"
      },
      "outputs": [
        {
          "output_type": "stream",
          "name": "stdout",
          "text": [
            "Digite uma data no formato dd/mm/aaaa:16/08/2024\n",
            "A data 16/08/2024 é válida.\n",
            "O dia da semana é: Sexta-feira\n"
          ]
        }
      ],
      "source": [
        "data_entrada = input(\"Digite uma data no formato dd/mm/aaaa:\")\n",
        "\n",
        "dia = int(data_entrada[0:2])\n",
        "mes = int(data_entrada[3:5])\n",
        "ano = int(data_entrada[6:10])\n",
        "\n",
        "data_valida = True\n",
        "\n",
        "if mes < 1 or mes > 12:\n",
        "  data_valida = False\n",
        "\n",
        "dias_mes = 31\n",
        "\n",
        "if mes in [4,6,9,11]:\n",
        "  dias_mes = 30\n",
        "elif mes == 2:\n",
        "  if (ano % 4 == 0 and ano % 100 != 0) or (ano % 400 == 0):\n",
        "    dias_mes = 29\n",
        "  else:\n",
        "    dias_mes = 28\n",
        "\n",
        "if dia < 1 or dia > dias_mes:\n",
        "  data_valida = False\n",
        "\n",
        "if data_valida:\n",
        "  AUX = int((ano -1) * 365.25 )\n",
        "  dias_decorridos = [0, 31, 59, 90, 120, 151, 181, 212, 243, 273, 304, 334]\n",
        "  AUX += dias_decorridos[mes - 1]\n",
        "\n",
        "  AUX += dia\n",
        "\n",
        "  if (ano % 4 == 0 and ano % 100 != 0) or (ano % 400 == 0):\n",
        "        if mes > 2:\n",
        "            AUX += 1\n",
        "\n",
        "  AUX1 = AUX // 7 * 7\n",
        "  resultado = AUX - AUX1\n",
        "\n",
        "\n",
        "  dias_semana = [\"Sábado\", \"Domingo\", \"Segunda-feira\", \"Terça-feira\", \"Quarta-feira\", \"Quinta-feira\", \"Sexta-feira\"]\n",
        "\n",
        "  print(f\"A data {data_entrada} é válida.\")\n",
        "  print(f\"O dia da semana é: {dias_semana[resultado]}\")\n",
        "else:\n",
        "  print(f\"A data {data_entrada} é inválida.\")"
      ]
    }
  ]
}