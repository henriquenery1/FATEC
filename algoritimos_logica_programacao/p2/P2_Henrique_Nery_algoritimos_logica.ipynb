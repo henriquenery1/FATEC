{
  "nbformat": 4,
  "nbformat_minor": 0,
  "metadata": {
    "colab": {
      "provenance": []
    },
    "kernelspec": {
      "name": "python3",
      "display_name": "Python 3"
    },
    "language_info": {
      "name": "python"
    }
  },
  "cells": [
    {
      "cell_type": "markdown",
      "source": [
        "**1-(2,5 ptos)** João Papo-de-Pescador, homem de bem, comprou um microcomputador para controlar o rendimento diário de seu trabalho. Toda vez que ele traz um peso de peixes maior que o estabelecido pelo regulamento de pesca do estado de São Paulo (50 quilos) deve pagar umamulta de R$ 4,00 por quilo excedente. João precisa que você faça um programa que leia a variável peso (peso de peixes) e calcule o excesso. Gravar na variável excesso a quantidade de quilos além do limite e na variável multa o valor da multa que João deverá pagar. Imprima os dados do programa com as mensagens adequadas."
      ],
      "metadata": {
        "id": "xOxybRI1WPlI"
      }
    },
    {
      "cell_type": "code",
      "execution_count": 20,
      "metadata": {
        "colab": {
          "base_uri": "https://localhost:8080/"
        },
        "id": "8ZyKis0nWEiI",
        "outputId": "e0051aa5-6146-4019-951c-02873f10f962"
      },
      "outputs": [
        {
          "output_type": "stream",
          "name": "stdout",
          "text": [
            "Informe o peso dos peixes em quilos: 59\n",
            "\n",
            "O peso excedente foi de 9.00 quilos.\n",
            "O valor da multa a ser paga por João é de R$36.00.\n"
          ]
        }
      ],
      "source": [
        "peso_peixes = float(input(\"Informe o peso dos peixes em quilos: \"))\n",
        "\n",
        "if peso_peixes > 50:\n",
        "    excesso = peso_peixes - 50\n",
        "\n",
        "    multa = excesso * 4\n",
        "\n",
        "    print()\n",
        "    print(f\"O peso excedente foi de {excesso:.2f} quilos.\")\n",
        "    print(f\"O valor da multa a ser paga por João é de R${multa:.2f}.\")\n",
        "else:\n",
        "    print(\"Não houve excesso de peso. João não precisa pagar multa.\")\n"
      ]
    },
    {
      "cell_type": "markdown",
      "source": [
        "\n",
        "---\n",
        "**2-(2,5 ptos**)Escreva um algoritmo que calcule a média dos números digitados se eles forem pares. Termine a leitura se o usuário digitar 0."
      ],
      "metadata": {
        "id": "YaCXR-k2WzBM"
      }
    },
    {
      "cell_type": "code",
      "source": [
        "numeros_pares = []\n",
        "\n",
        "while True:\n",
        "    numero = int(input(\"Digite um número qualquer ou 0 para terminar: \"))\n",
        "\n",
        "    if numero == 0:\n",
        "        break\n",
        "\n",
        "    if numero % 2 == 0:\n",
        "        numeros_pares.append(numero)\n",
        "\n",
        "if numeros_pares:\n",
        "    media = sum(numeros_pares) / len(numeros_pares)\n",
        "    print(\"#~\" * 20)\n",
        "    print(\"Os números pares digitados foram:\", numeros_pares)\n",
        "    print()\n",
        "    print(f\"A média dos números pares digitados é: {media:.2f}\")\n",
        "else:\n",
        "    print(\"Nenhum número par foi digitado.\")\n",
        "\n"
      ],
      "metadata": {
        "colab": {
          "base_uri": "https://localhost:8080/"
        },
        "id": "S60wkTXVZqrm",
        "outputId": "1816ab7e-6e8e-451d-a860-0282abb6ae4f"
      },
      "execution_count": 18,
      "outputs": [
        {
          "output_type": "stream",
          "name": "stdout",
          "text": [
            "Digite um número qualquer ou 0 para terminar: 1\n",
            "Digite um número qualquer ou 0 para terminar: 2\n",
            "Digite um número qualquer ou 0 para terminar: 3\n",
            "Digite um número qualquer ou 0 para terminar: 4\n",
            "Digite um número qualquer ou 0 para terminar: 5\n",
            "Digite um número qualquer ou 0 para terminar: 6\n",
            "Digite um número qualquer ou 0 para terminar: 7\n",
            "Digite um número qualquer ou 0 para terminar: 8\n",
            "Digite um número qualquer ou 0 para terminar: 0\n",
            "#~#~#~#~#~#~#~#~#~#~#~#~#~#~#~#~#~#~#~#~\n",
            "Os números pares digitados foram: [2, 4, 6, 8]\n",
            "\n",
            "A média dos números pares digitados é: 5.00\n"
          ]
        }
      ]
    },
    {
      "cell_type": "markdown",
      "source": [
        "\n",
        "\n",
        "---\n",
        "\n",
        "\n",
        "**3-(2,5 ptos)**Supondo que a população de um país A seja da ordem de 80000 habitantes com uma taxa anual de crescimento de 3% e que a população de B seja 200000 habitantes com uma taxa  de  crescimento  de  1.5%.  Faça  um  programa  que  calcule  e  escreva  o  número  de  anos necessários para que a população do país A ultrapasse ou iguale a população do país B, mantidas as taxas de crescimento"
      ],
      "metadata": {
        "id": "3q8vQ9MeW3qx"
      }
    },
    {
      "cell_type": "code",
      "source": [
        "populacao_a = 80000\n",
        "taxa_crescimento_a = 0.03\n",
        "\n",
        "populacao_b = 200000\n",
        "taxa_crescimento_b = 0.015\n",
        "\n",
        "anos = 0\n",
        "\n",
        "while populacao_a <= populacao_b:\n",
        "    populacao_a += populacao_a * taxa_crescimento_a\n",
        "    populacao_b += populacao_b * taxa_crescimento_b\n",
        "    anos += 1\n",
        "\n",
        "print(f\"Serão necessários {anos} anos para que a população do país A ultrapasse a população do país B.\")\n"
      ],
      "metadata": {
        "colab": {
          "base_uri": "https://localhost:8080/"
        },
        "id": "5SCvXb6DW4Dk",
        "outputId": "da30e9ca-a698-4596-bb9d-28d9abecc877"
      },
      "execution_count": 21,
      "outputs": [
        {
          "output_type": "stream",
          "name": "stdout",
          "text": [
            "Serão necessários 63 anos para que a população do país A ultrapasse a população do país B.\n"
          ]
        }
      ]
    },
    {
      "cell_type": "markdown",
      "source": [
        "\n",
        "\n",
        "---\n",
        "\n",
        "\n",
        "**4-(2,5ptos)**Escreva um programa que leia um valor correspondente ao número de jogadores de um time de vôlei. O programa deve solicitar a altura de cada um dos jogadores e ao final informar a altura média do time."
      ],
      "metadata": {
        "id": "DNvrF3ZgW4T6"
      }
    },
    {
      "cell_type": "code",
      "source": [
        "numero_jogadores = int(input(\"Digite o número de jogadores do time de vôlei: \"))\n",
        "\n",
        "soma_alturas = 0\n",
        "\n",
        "for i in range(numero_jogadores):\n",
        "    altura = float(input(f\"Digite a altura do jogador {i+1} (em metros): \"))\n",
        "    soma_alturas += altura\n",
        "\n",
        "media_alturas = soma_alturas / numero_jogadores\n",
        "\n",
        "print()\n",
        "print(f\"A altura média do time de vôlei é: {media_alturas:.2f} metros.\")\n"
      ],
      "metadata": {
        "colab": {
          "base_uri": "https://localhost:8080/"
        },
        "id": "SoJ3oB0UW4uT",
        "outputId": "34d0e003-3dc0-4733-ef5d-141bc578e314"
      },
      "execution_count": 24,
      "outputs": [
        {
          "output_type": "stream",
          "name": "stdout",
          "text": [
            "Digite o número de jogadores do time de vôlei: 7\n",
            "Digite a altura do jogador 1 (em metros): 2\n",
            "Digite a altura do jogador 2 (em metros): 2.1\n",
            "Digite a altura do jogador 3 (em metros): 1.98\n",
            "Digite a altura do jogador 4 (em metros): 1.96\n",
            "Digite a altura do jogador 5 (em metros): 2.25\n",
            "Digite a altura do jogador 6 (em metros): 2.14\n",
            "Digite a altura do jogador 7 (em metros): 1.68\n",
            "\n",
            "A altura média do time de vôlei é: 2.02 metros.\n"
          ]
        }
      ]
    }
  ]
}