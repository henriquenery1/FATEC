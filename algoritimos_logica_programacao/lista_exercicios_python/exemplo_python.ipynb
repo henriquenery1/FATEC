{
  "nbformat": 4,
  "nbformat_minor": 0,
  "metadata": {
    "colab": {
      "provenance": []
    },
    "kernelspec": {
      "name": "python3",
      "display_name": "Python 3"
    },
    "language_info": {
      "name": "python"
    }
  },
  "cells": [
    {
      "cell_type": "markdown",
      "source": [
        "**Exemplo python**"
      ],
      "metadata": {
        "id": "hZtMVOZMFQmo"
      }
    },
    {
      "cell_type": "code",
      "source": [
        "print(\"Hello world!\")"
      ],
      "metadata": {
        "colab": {
          "base_uri": "https://localhost:8080/"
        },
        "id": "4PcW2c85FLOY",
        "outputId": "f8d7e739-5a56-413c-f8ef-9c04f46b3ee6"
      },
      "execution_count": 1,
      "outputs": [
        {
          "output_type": "stream",
          "name": "stdout",
          "text": [
            "Hello world!\n"
          ]
        }
      ]
    },
    {
      "cell_type": "code",
      "source": [
        "nome = \"John Doe\"\n",
        "\n",
        "idade = 30\n",
        "\n",
        "altura = 1.80\n",
        "\n",
        "ativo = True\n",
        "\n",
        "print(\"Nome:\", nome)\n",
        "print(\"Idade:\", idade)\n",
        "print(\"Altura:\", altura)\n",
        "print(\"Ativo:\", ativo)"
      ],
      "metadata": {
        "colab": {
          "base_uri": "https://localhost:8080/"
        },
        "id": "GPeDpBXQEMFZ",
        "outputId": "a2538a8e-99fa-4904-dc3f-fa7531573a40"
      },
      "execution_count": 3,
      "outputs": [
        {
          "output_type": "stream",
          "name": "stdout",
          "text": [
            "Nome: John Doe\n",
            "Idade: 30\n",
            "Altura: 1.8\n",
            "Ativo: True\n"
          ]
        }
      ]
    },
    {
      "cell_type": "code",
      "source": [
        "print(f'O seu nome é {nome}')"
      ],
      "metadata": {
        "colab": {
          "base_uri": "https://localhost:8080/"
        },
        "id": "M6zbVFB0GaB4",
        "outputId": "8b3caa91-3baa-4f03-ab5d-05974afb87cc"
      },
      "execution_count": 5,
      "outputs": [
        {
          "output_type": "stream",
          "name": "stdout",
          "text": [
            "O seu nome é John Doe\n"
          ]
        }
      ]
    },
    {
      "cell_type": "code",
      "source": [
        "nome"
      ],
      "metadata": {
        "colab": {
          "base_uri": "https://localhost:8080/",
          "height": 35
        },
        "id": "TpXRfHD0HHQY",
        "outputId": "bfd38cca-f98c-4050-af3f-c633780113d4"
      },
      "execution_count": 6,
      "outputs": [
        {
          "output_type": "execute_result",
          "data": {
            "text/plain": [
              "'John Doe'"
            ],
            "application/vnd.google.colaboratory.intrinsic+json": {
              "type": "string"
            }
          },
          "metadata": {},
          "execution_count": 6
        }
      ]
    },
    {
      "cell_type": "code",
      "source": [
        "type(nome)"
      ],
      "metadata": {
        "colab": {
          "base_uri": "https://localhost:8080/"
        },
        "id": "k9SpPP2hHJJ5",
        "outputId": "87c90a1d-5111-4464-84ff-77ab1feb7e36"
      },
      "execution_count": 7,
      "outputs": [
        {
          "output_type": "execute_result",
          "data": {
            "text/plain": [
              "str"
            ]
          },
          "metadata": {},
          "execution_count": 7
        }
      ]
    },
    {
      "cell_type": "code",
      "source": [
        "print(f'O seu nome é {nome} \\nA sua idade é {idade}\\nA sua altura é {altura}')"
      ],
      "metadata": {
        "colab": {
          "base_uri": "https://localhost:8080/"
        },
        "id": "EWpwdAYbHioL",
        "outputId": "d8a0eec5-8db2-4fcb-db81-7873f9ca7a2f"
      },
      "execution_count": 10,
      "outputs": [
        {
          "output_type": "stream",
          "name": "stdout",
          "text": [
            "O seu nome é John Doe \n",
            "A sua idade é 30\n",
            "A sua altura é 1.8\n"
          ]
        }
      ]
    },
    {
      "cell_type": "code",
      "source": [
        "test_input = input(\"digite alguma coisa: \")\n",
        "\n",
        "print(test_input)"
      ],
      "metadata": {
        "colab": {
          "base_uri": "https://localhost:8080/"
        },
        "id": "GkSeajM-IxHC",
        "outputId": "f20821ea-78e6-4a09-eaa5-515454ae33c6"
      },
      "execution_count": 17,
      "outputs": [
        {
          "output_type": "stream",
          "name": "stdout",
          "text": [
            "digite alguma coisa: test\n",
            "test\n"
          ]
        }
      ]
    },
    {
      "cell_type": "code",
      "source": [
        "num1 = input(\"Digite n1 \")\n",
        "\n",
        "num2 = input(\"Digite n2 \")\n",
        "\n",
        "print(type(int(num1)))\n",
        "\n",
        "print(type(num2))\n",
        "\n",
        "soma = int(num1) + int(num2)\n",
        "\n",
        "print(f'A soma é {soma}')"
      ],
      "metadata": {
        "colab": {
          "base_uri": "https://localhost:8080/"
        },
        "id": "gBYAfdyAJW_A",
        "outputId": "152f8037-554d-46e3-d332-34e455bce873"
      },
      "execution_count": 23,
      "outputs": [
        {
          "output_type": "stream",
          "name": "stdout",
          "text": [
            "Digite n1 1\n",
            "Digite n2 2\n",
            "<class 'int'>\n",
            "<class 'str'>\n",
            "A soma é 3\n"
          ]
        }
      ]
    },
    {
      "cell_type": "code",
      "source": [
        "# prompt: crie exemplos de operadores a partir de dois inputs para  os operadores // e % e no print coloque o nome do que está sendo calculado\n",
        "\n",
        "num1 = int(input(\"Digite o dividendo: \"))\n",
        "num2 = int(input(\"Digite o divisor: \"))\n",
        "\n",
        "print(f\"Divisão: = {num1 / num2}\")\n",
        "print(f\"Divisão inteira: = {num1 // num2}\")\n",
        "print(f\"Resto da divisão: = {num1 % num2}\")\n"
      ],
      "metadata": {
        "colab": {
          "base_uri": "https://localhost:8080/"
        },
        "id": "FPa9nJfTK26n",
        "outputId": "fab0fea7-511f-4339-b808-e980a0deb967"
      },
      "execution_count": 28,
      "outputs": [
        {
          "output_type": "stream",
          "name": "stdout",
          "text": [
            "Digite o dividendo: 5\n",
            "Digite o divisor: 3\n",
            "Divisão: = 1.6666666666666667\n",
            "Divisão inteira: = 1\n",
            "Resto da divisão: = 2\n"
          ]
        }
      ]
    },
    {
      "cell_type": "code",
      "source": [
        "# prompt: elevado agora\n",
        "\n",
        "num1 = int(input(\"Digite o dividendo: \"))\n",
        "num2 = int(input(\"Digite o divisor: \"))\n",
        "\n",
        "print(f\"Divisão: = {num1 / num2}\")\n",
        "print(f\"Divisão inteira: = {num1 // num2}\")\n",
        "print(f\"Resto da divisão: = {num1 % num2}\")\n",
        "print(f\"Elevado: = {num1 ** num2}\")\n"
      ],
      "metadata": {
        "colab": {
          "base_uri": "https://localhost:8080/"
        },
        "id": "qrhst4QAMATG",
        "outputId": "5aeda8c2-0a0b-46d4-f540-e38079bec5e8"
      },
      "execution_count": 29,
      "outputs": [
        {
          "output_type": "stream",
          "name": "stdout",
          "text": [
            "Digite o dividendo: 5\n",
            "Digite o divisor: 3\n",
            "Divisão: = 1.6666666666666667\n",
            "Divisão inteira: = 1\n",
            "Resto da divisão: = 2\n",
            "Elevado: = 125\n"
          ]
        }
      ]
    },
    {
      "cell_type": "code",
      "source": [
        "# prompt: um exemplo com arredondamento\n",
        "\n",
        "num1 = 10.8456789\n",
        "print(f\"Arredondando: {round(num1)}\")\n",
        "print(f\"Arredondando para 2 casas decimais: {round(num1, 2)}\")\n",
        "print(f\"Arredondando para 3 casas decimais: {round(num1, 3)}\")\n",
        "print(f\"Arredondando para 4 casas decimais: {round(num1, 4)}\")\n"
      ],
      "metadata": {
        "colab": {
          "base_uri": "https://localhost:8080/"
        },
        "id": "ZJx_BDJ-NXP5",
        "outputId": "f2badff8-915b-4685-91ba-ef8978213cbd"
      },
      "execution_count": 32,
      "outputs": [
        {
          "output_type": "stream",
          "name": "stdout",
          "text": [
            "Arredondando: 11\n",
            "Arredondando para 2 casas decimais: 10.85\n",
            "Arredondando para 3 casas decimais: 10.846\n",
            "Arredondando para 4 casas decimais: 10.8457\n"
          ]
        }
      ]
    },
    {
      "cell_type": "code",
      "source": [
        "# prompt: exemplo de estrutura condicional com um input para inserir o dado\n",
        "\n",
        "idade = int(input(\"Insira a sua idade: \"))\n",
        "\n",
        "if idade >= 18:\n",
        "  print(\"Você é maior de idade.\")\n",
        "else:\n",
        "  print(\"Você é menor de idade.\")\n"
      ],
      "metadata": {
        "colab": {
          "base_uri": "https://localhost:8080/"
        },
        "id": "xJ0iIQI-NjGy",
        "outputId": "053daef3-cbba-4e9c-ca50-6d8d12a07eee"
      },
      "execution_count": 37,
      "outputs": [
        {
          "output_type": "stream",
          "name": "stdout",
          "text": [
            "Insira a sua idade: 18\n",
            "Você é maior de idade.\n"
          ]
        }
      ]
    },
    {
      "cell_type": "code",
      "source": [
        "# prompt: um exemplo de estrutura condicional que calcule a media de duas notas e mostre aprovado para medias maiores que 6\n",
        "\n",
        "nota1 = float(input(\"Insira a primeira nota: \"))\n",
        "nota2 = float(input(\"Insira a segunda nota: \"))\n",
        "\n",
        "media = (nota1 + nota2) / 2\n",
        "\n",
        "if media >= 6:\n",
        "  print(\"Aprovado!\")\n",
        "else:\n",
        "  print(\"Reprovado!\")\n"
      ],
      "metadata": {
        "colab": {
          "base_uri": "https://localhost:8080/"
        },
        "id": "MJfLa5kKOs6S",
        "outputId": "a4dac79e-7e6f-410e-e1a0-db10eeaa66a1"
      },
      "execution_count": 40,
      "outputs": [
        {
          "output_type": "stream",
          "name": "stdout",
          "text": [
            "Insira a primeira nota: 2\n",
            "Insira a segunda nota: 2\n",
            "Reprovado!\n"
          ]
        }
      ]
    },
    {
      "cell_type": "code",
      "source": [
        "# prompt: gere um codigo muito complexo\n",
        "\n",
        "import random\n",
        "\n",
        "def generate_complex_code(length):\n",
        "  \"\"\"\n",
        "  Generate a complex code of the specified length.\n",
        "\n",
        "  Args:\n",
        "    length: The desired length of the code.\n",
        "\n",
        "  Returns:\n",
        "    A string containing the complex code.\n",
        "  \"\"\"\n",
        "\n",
        "  # Define the characters to use in the code.\n",
        "  characters = \"abcdefghijklmnopqrstuvwxyzABCDEFGHIJKLMNOPQRSTUVWXYZ0123456789!@#$%^&*()_+\"\n",
        "\n",
        "  # Generate the code.\n",
        "  code = \"\"\n",
        "  for _ in range(length):\n",
        "    code += random.choice(characters)\n",
        "\n",
        "  # Return the code.\n",
        "  return code\n",
        "\n",
        "# Generate a complex code of length 20.\n",
        "complex_code = generate_complex_code(20)\n",
        "\n",
        "# Print the complex code.\n",
        "print(complex_code)\n"
      ],
      "metadata": {
        "colab": {
          "base_uri": "https://localhost:8080/"
        },
        "id": "1h-4oupNPG6J",
        "outputId": "455afd4f-3149-4f52-dab6-635025df21f7"
      },
      "execution_count": 41,
      "outputs": [
        {
          "output_type": "stream",
          "name": "stdout",
          "text": [
            "bDq6fUpuYy5sK4hdA9*M\n"
          ]
        }
      ]
    },
    {
      "cell_type": "code",
      "source": [
        "# prompt: Me impressione\n",
        "\n",
        "import random\n",
        "import time\n",
        "\n",
        "# Define the characters to use in the code.\n",
        "characters = \"abcdefghijklmnopqrstuvwxyzABCDEFGHIJKLMNOPQRSTUVWXYZ0123456789!@#$%^&*()_+\"\n",
        "\n",
        "# Generate a random string of characters.\n",
        "def generate_random_string(length):\n",
        "  return ''.join(random.choice(characters) for _ in range(length))\n",
        "\n",
        "# Print a random string of characters with a random delay.\n",
        "def print_random_string_with_delay():\n",
        "  string_length = random.randint(10, 20)\n",
        "  delay = random.uniform(0.1, 0.5)\n",
        "  random_string = generate_random_string(string_length)\n",
        "  print(random_string)\n",
        "  time.sleep(delay)\n",
        "\n",
        "# Repeat the process of printing random strings with a random delay 10 times.\n",
        "for _ in range(5):\n",
        "  print_random_string_with_delay()"
      ],
      "metadata": {
        "colab": {
          "base_uri": "https://localhost:8080/"
        },
        "id": "myTzddIEQPui",
        "outputId": "1b38a07c-cc24-4f47-b63d-37a2833e3965"
      },
      "execution_count": 45,
      "outputs": [
        {
          "output_type": "stream",
          "name": "stdout",
          "text": [
            "ZweAM0r_&k\n",
            ")px_bPC(BpLs77M4%\n",
            ")hhPoH1St&FHLJPUtz\n",
            "AxG8M7S*kS\n",
            "eb5+oM)_P&bk)s\n"
          ]
        }
      ]
    },
    {
      "cell_type": "code",
      "source": [],
      "metadata": {
        "id": "B1i1l_6eRuF6"
      },
      "execution_count": null,
      "outputs": []
    }
  ]
}