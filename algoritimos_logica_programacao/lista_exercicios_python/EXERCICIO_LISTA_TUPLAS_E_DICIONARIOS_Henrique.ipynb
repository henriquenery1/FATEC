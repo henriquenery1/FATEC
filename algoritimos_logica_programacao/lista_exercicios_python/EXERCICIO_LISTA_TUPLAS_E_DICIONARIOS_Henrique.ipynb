{
  "nbformat": 4,
  "nbformat_minor": 0,
  "metadata": {
    "colab": {
      "provenance": []
    },
    "kernelspec": {
      "name": "python3",
      "display_name": "Python 3"
    },
    "language_info": {
      "name": "python"
    }
  },
  "cells": [
    {
      "cell_type": "markdown",
      "source": [
        "**Atividade Prática: Explorando Listas, Tuplas e Dicionários**\n",
        "**Objetivo:** Criar, manipular e iterar sobre listas, tuplas e dicionários em Python.\n",
        "\n",
        "\n",
        "\n",
        "**Criar as seguintes estruturas de dados:**\n",
        "•Uma listade cores favoritas.\n",
        "\n",
        "•Uma tuplade nomes de países.\n",
        "\n",
        "•Um dicionário de  informações  pessoais,  onde  as  chaves  são 'nome', 'idade'e 'cidade', escolhaos valores a seremfornecidos.\n",
        "\n",
        "\n",
        "\n",
        "\n",
        "**Manipulação das Estruturas de Dados:**\n",
        "Realizaras seguintes operações em cada estrutura de dados:\n",
        "\n",
        "•Adicionar um novo elemento à lista de cores favoritas.\n",
        "\n",
        "•Modificar um elemento da tupla de nomes de países.\n",
        "\n",
        "•Adicionar uma nova entrada ao dicionário de informações pessoais.\n",
        "\n",
        "•Remover uma entrada do dicionário de informações pessoais.\n",
        "\n",
        "\n",
        "\n",
        "**Iteração sobre os Elementos:**\n",
        "Iterar sobre os elementos de cada estrutura de dados e exibir os resultados na tela. Usar um loop forpara isso.\n",
        "\n",
        "•Para a lista de cores favoritas, imprimir cada cor em uma linha separada.\n",
        "\n",
        "•Para  a  tupla  de  nomes  de  países, imprimir  cada  país  em  uma  linha separada.\n",
        "\n",
        "•Para  o  dicionário  de  informações  pessoais, imprimir  cada  chave  e  seu respectivo valor em uma linha separada."
      ],
      "metadata": {
        "id": "AsLEKOJrVLby"
      }
    },
    {
      "cell_type": "code",
      "source": [
        "print(\"CORES FAVORITAS\\n\")\n",
        "print(\"Primeira Lista: \")\n",
        "cores_fav = ['Roxo', 'Lilás', 'Vermelho', 'Vinho', 'Anil', 'Ciano', 'Magenta', 'Terracota']\n",
        "print(cores_fav)\n",
        "print()\n",
        "\n",
        "cores_fav.append('Preto')\n",
        "print(\"Segunda Lista: \")\n",
        "print(cores_fav)\n",
        "print()\n",
        "\n",
        "print(\"Cores Favoritas:\")\n",
        "for cor in cores_fav:\n",
        "  print(cor)\n"
      ],
      "metadata": {
        "colab": {
          "base_uri": "https://localhost:8080/"
        },
        "id": "cXPsINgMWtfS",
        "outputId": "1f05b898-c2bf-4c70-b4bc-32dc7ac37d5a"
      },
      "execution_count": 5,
      "outputs": [
        {
          "output_type": "stream",
          "name": "stdout",
          "text": [
            "CORES FAVORITAS\n",
            "\n",
            "Primeira Lista: \n",
            "['Roxo', 'Lilás', 'Vermelho', 'Vinho', 'Anil', 'Ciano', 'Magenta', 'Terracota']\n",
            "\n",
            "Segunda Lista: \n",
            "['Roxo', 'Lilás', 'Vermelho', 'Vinho', 'Anil', 'Ciano', 'Magenta', 'Terracota', 'Preto']\n",
            "\n",
            "Cores Favoritas:\n",
            "Roxo\n",
            "Lilás\n",
            "Vermelho\n",
            "Vinho\n",
            "Anil\n",
            "Ciano\n",
            "Magenta\n",
            "Terracota\n",
            "Preto\n"
          ]
        }
      ]
    },
    {
      "cell_type": "code",
      "source": [
        "print(\"PAÍSES\\n\")\n",
        "print(\"\\nPrimeira Lista: \")\n",
        "paises = ('Brasil','Itália','Dinamarca','Suíça','Portugal','África do Sul')\n",
        "print(paises)\n",
        "\n",
        "print()\n",
        "lista = list(paises)\n",
        "print(type(lista))\n",
        "\n",
        "print(\"\\nSegunda Lista: \")\n",
        "lista.append('Inglaterra')\n",
        "paises = lista\n",
        "nova = tuple(paises)\n",
        "print(nova)\n",
        "\n",
        "print(\"\\nPAÍSES\\n\")\n",
        "for pais in paises:\n",
        " print(pais)"
      ],
      "metadata": {
        "colab": {
          "base_uri": "https://localhost:8080/"
        },
        "id": "Low-CR9UeAqC",
        "outputId": "4f1fb76a-9b46-4c93-afef-6a0191f9f451"
      },
      "execution_count": 6,
      "outputs": [
        {
          "output_type": "stream",
          "name": "stdout",
          "text": [
            "PAÍSES\n",
            "\n",
            "\n",
            "Primeira Lista: \n",
            "('Brasil', 'Itália', 'Dinamarca', 'Suíça', 'Portugal', 'África do Sul')\n",
            "\n",
            "<class 'list'>\n",
            "\n",
            "Segunda Lista: \n",
            "('Brasil', 'Itália', 'Dinamarca', 'Suíça', 'Portugal', 'África do Sul', 'Inglaterra')\n",
            "\n",
            "PAÍSES\n",
            "\n",
            "Brasil\n",
            "Itália\n",
            "Dinamarca\n",
            "Suíça\n",
            "Portugal\n",
            "África do Sul\n",
            "Inglaterra\n"
          ]
        }
      ]
    },
    {
      "cell_type": "code",
      "source": [
        "print(\"DADOS PESSOAIS\\n\")\n",
        "print(\"Primeira Lista: \")\n",
        "pessoa = {'nome':'Ellen', 'idade': 20, 'cidade':'Santo André'}\n",
        "print(pessoa)\n",
        "\n",
        "print(\"\\nSegunda Lista: \")\n",
        "pessoa['Data de Nascimento'] = '09/03/2004'\n",
        "pessoa['Cor'] ='Branca'\n",
        "print(pessoa)\n",
        "\n",
        "print(\"\\nModificação: \")\n",
        "del pessoa['Cor']\n",
        "print(pessoa)\n",
        "\n",
        "print(\"\\nInformações da pessoa:\")\n",
        "for dados in pessoa:\n",
        "    print(dados + \":\", pessoa[dados])"
      ],
      "metadata": {
        "colab": {
          "base_uri": "https://localhost:8080/"
        },
        "id": "osVfAIY5l748",
        "outputId": "ae01322e-b5cd-4d9f-bb6c-aa99e9a3ebca"
      },
      "execution_count": 7,
      "outputs": [
        {
          "output_type": "stream",
          "name": "stdout",
          "text": [
            "DADOS PESSOAIS\n",
            "\n",
            "Primeira Lista: \n",
            "{'nome': 'Ellen', 'idade': 20, 'cidade': 'Santo André'}\n",
            "\n",
            "Segunda Lista: \n",
            "{'nome': 'Ellen', 'idade': 20, 'cidade': 'Santo André', 'Data de Nascimento': '09/03/2004', 'Cor': 'Branca'}\n",
            "\n",
            "Modificação: \n",
            "{'nome': 'Ellen', 'idade': 20, 'cidade': 'Santo André', 'Data de Nascimento': '09/03/2004'}\n",
            "\n",
            "Informações da pessoa:\n",
            "nome: Ellen\n",
            "idade: 20\n",
            "cidade: Santo André\n",
            "Data de Nascimento: 09/03/2004\n"
          ]
        }
      ]
    }
  ]
}