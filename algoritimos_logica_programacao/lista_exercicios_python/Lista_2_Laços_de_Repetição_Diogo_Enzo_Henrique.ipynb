{
  "nbformat": 4,
  "nbformat_minor": 0,
  "metadata": {
    "colab": {
      "provenance": []
    },
    "kernelspec": {
      "name": "python3",
      "display_name": "Python 3"
    },
    "language_info": {
      "name": "python"
    }
  },
  "cells": [
    {
      "cell_type": "markdown",
      "source": [
        "1- Faça um programa que peça uma nota, entre zero e dez. Mostre uma mensagem caso o valor seja inválido e continue pedindo até que o usuário informe um valor válido."
      ],
      "metadata": {
        "id": "4xtRGDIMbF0z"
      }
    },
    {
      "cell_type": "code",
      "execution_count": 23,
      "metadata": {
        "id": "nWgB0lvZa5xh",
        "colab": {
          "base_uri": "https://localhost:8080/"
        },
        "outputId": "6c03e31a-02ad-4417-ae2e-cea2f4d9b724"
      },
      "outputs": [
        {
          "output_type": "stream",
          "name": "stdout",
          "text": [
            "Digite uma nota de 0 a 10: 11\n",
            "Digite uma nota de 0 a 10: 10\n",
            "10\n"
          ]
        }
      ],
      "source": [
        "verificacao = True\n",
        "\n",
        "while verificacao:\n",
        "  nota = int(input('Digite uma nota de 0 a 10: '))\n",
        "  verificacao = nota > 10 or nota < 0\n",
        "\n",
        "print(nota)"
      ]
    },
    {
      "cell_type": "markdown",
      "source": [
        "2- Faça um programa que leia um nome de usuário e a sua senha e não aceite a senha igual ao nome do usuário, mostrando uma mensagem de erro e voltando a pedir as informações."
      ],
      "metadata": {
        "id": "RIejwl4mbK7z"
      }
    },
    {
      "cell_type": "code",
      "source": [
        "senha = 0\n",
        "nome = 0\n",
        "\n",
        "while senha == nome:\n",
        "  nome = input(\"Digite um nome de usuário: \")\n",
        "  senha = input(\"Digite uma senha: \")\n",
        "  if (senha != nome):\n",
        "    break\n",
        "  print (\"Digite uma Senha e Nome de usuários diferentes\")"
      ],
      "metadata": {
        "id": "QVwlvuQDbREK",
        "colab": {
          "base_uri": "https://localhost:8080/"
        },
        "outputId": "1d703365-9d08-4caf-930c-cc9f64238a60"
      },
      "execution_count": 31,
      "outputs": [
        {
          "name": "stdout",
          "output_type": "stream",
          "text": [
            "Digite um nome de usuário: enzo\n",
            "Digite uma senha: enzo\n",
            "Digite uma Senha e Nome de usuários diferentes\n",
            "Digite um nome de usuário: 123\n",
            "Digite uma senha: 1234\n"
          ]
        }
      ]
    },
    {
      "cell_type": "markdown",
      "source": [
        "3- Faça um programa que leia e valide as seguintes informações:\n",
        "*   Nome: maior que 3 caracteres;\n",
        "*   Idade: entre 0 e 150;\n",
        "*   Salário: maior que zero;\n",
        "*   Sexo: 'f' ou 'm';\n",
        "*   Estado Civil: 's', 'c', 'v', 'd';\n",
        "\n",
        "**Use a função `len(string)` para saber o tamanho de um texto (número de caracteres).**"
      ],
      "metadata": {
        "id": "IjjosQBibRzj"
      }
    },
    {
      "cell_type": "code",
      "source": [
        "verificacao = True\n",
        "\n",
        "while verificacao:\n",
        "  nome = input(\"Digite seu nome: \")\n",
        "  verifica_nome = len(nome) < 3\n",
        "  if verifica_nome:\n",
        "    print(\"Nome deve ter mais que 3 caracteres.\")\n",
        "    continue\n",
        "\n",
        "  idade = int(input(\"Digite sua idade: \"))\n",
        "  verifica_idade = not (0 <= idade <= 150)\n",
        "  if verifica_idade:\n",
        "    print(\"Idade deve estar entre 0 e 150.\")\n",
        "    continue\n",
        "\n",
        "  salario = float(input(\"Digite seu salário: \"))\n",
        "  verifica_salario = salario <= 0\n",
        "  if verifica_salario:\n",
        "    print(\"Salário deve ser maior que zero.\")\n",
        "    continue\n",
        "\n",
        "  sexo = input(\"Digite seu sexo (f/m): \").lower()\n",
        "  verifica_sexo = sexo not in (\"f\", \"m\")\n",
        "  if verifica_sexo:\n",
        "    print(\"Sexo deve ser 'f' ou 'm'.\")\n",
        "    continue\n",
        "\n",
        "  estado_civil = input(\"Digite seu estado civil (s/c/v/d): \").lower()\n",
        "  lista_estado_civil = [\"s\", \"c\", \"v\", \"d\"]\n",
        "  verifica_estado_civil = estado_civil not in lista_estado_civil\n",
        "  if verifica_estado_civil:\n",
        "    print(\"Estado civil deve ser 's', 'c', 'v' ou 'd'.\")\n",
        "    continue\n",
        "\n",
        "  verificacao = False\n",
        "\n",
        "print(\"Informações validadas com sucesso!\")\n",
        "\n",
        "\n",
        "\n"
      ],
      "metadata": {
        "id": "SZQsLLeMbtDS",
        "colab": {
          "base_uri": "https://localhost:8080/"
        },
        "outputId": "898c6d95-2a21-416d-84d5-b668ddeeb233"
      },
      "execution_count": 45,
      "outputs": [
        {
          "output_type": "stream",
          "name": "stdout",
          "text": [
            "Digite seu nome: agahsag\n",
            "Digite sua idade: 22\n",
            "Digite seu salário: 1200\n",
            "Digite seu sexo (f/m): m\n",
            "Digite seu estado civil (s/c/v/d): s\n",
            "Informações validadas com sucesso!\n"
          ]
        }
      ]
    },
    {
      "cell_type": "markdown",
      "source": [
        "4- Supondo que a população de um país A seja da ordem de 80000 habitantes com uma taxa anual de crescimento de 3% e que a população de B seja 200000 habitantes com uma taxa de crescimento de 1.5%. Faça um programa que calcule e escreva o número de anos necessários para que a população do país A ultrapasse ou iguale a população do país B, mantidas as taxas de crescimento."
      ],
      "metadata": {
        "id": "yzuu9ZKubt1L"
      }
    },
    {
      "cell_type": "code",
      "source": [
        "taxa_a = 1.03\n",
        "taxa_b = 1.015\n",
        "\n",
        "populacao_a = 80000\n",
        "populacao_b = 200000\n",
        "\n",
        "anos = 0\n",
        "\n",
        "while populacao_a < populacao_b:\n",
        "  populacao_a *= taxa_a\n",
        "  populacao_b *= taxa_b\n",
        "  anos += 1\n",
        "\n",
        "print(f\"A população de A ultrapassará ou igualará a população de B em {anos} anos.\")\n"
      ],
      "metadata": {
        "id": "n_mSFkoqbzhb",
        "colab": {
          "base_uri": "https://localhost:8080/"
        },
        "outputId": "3f81ef54-d2bf-4e17-d632-d26cc828fae0"
      },
      "execution_count": 59,
      "outputs": [
        {
          "output_type": "stream",
          "name": "stdout",
          "text": [
            "A população de A ultrapassará ou igualará a população de B em 63 anos.\n"
          ]
        }
      ]
    },
    {
      "cell_type": "markdown",
      "source": [
        "5- Altere o programa anterior permitindo ao usuário informar as populações e as taxas de crescimento iniciais. Valide a entrada e permita repetir a operação."
      ],
      "metadata": {
        "id": "6S1XgUIZb0ty"
      }
    },
    {
      "cell_type": "code",
      "source": [
        "while True:\n",
        "  try:\n",
        "    taxa_a = float(input(\"Digite a taxa de crescimento anual do país A (%): \"))\n",
        "    taxa_b = float(input(\"Digite a taxa de crescimento anual do país B (%): \"))\n",
        "    populacao_a = int(input(\"Digite a população inicial do país A: \"))\n",
        "    populacao_b = int(input(\"Digite a população inicial do país B: \"))\n",
        "    break\n",
        "  except ValueError:\n",
        "    print(\"Entrada inválida. Por favor, digite números válidos.\")\n",
        "\n",
        "anos = 0\n",
        "\n",
        "while populacao_a < populacao_b:\n",
        "  populacao_a *= (1 + taxa_a / 100)\n",
        "  populacao_b *= (1 + taxa_b / 100)\n",
        "  anos += 1\n",
        "\n",
        "print(f\"A população do país A ultrapassará ou igualará a população do país B em {anos} anos.\")\n",
        "\n",
        "continuar = input(\"Deseja fazer outro cálculo? (s/n): \")\n",
        "while continuar.lower() == \"s\":\n",
        "  try:\n",
        "    taxa_a = float(input(\"Digite a taxa de crescimento anual do país A (%): \"))\n",
        "    taxa_b = float(input(\"Digite a taxa de crescimento anual do país B (%): \"))\n",
        "    populacao_a = int(input(\"Digite a população inicial do país A: \"))\n",
        "    populacao_b = int(input(\"Digite a população inicial do país B: \"))\n",
        "    break\n",
        "  except ValueError:\n",
        "    print(\"Entrada inválida. Por favor, digite números válidos.\")\n",
        "\n",
        "anos = 0\n",
        "\n",
        "while populacao_a < populacao_b:\n",
        "  populacao_a *= (1 + taxa_a / 100)\n",
        "  populacao_b *= (1 + taxa_b / 100)\n",
        "  anos += 1\n",
        "\n",
        "print(f\"A população do país A ultrapassará ou igualará a população do país B em {anos} anos.\")\n"
      ],
      "metadata": {
        "colab": {
          "base_uri": "https://localhost:8080/"
        },
        "id": "BebJiIBypDNx",
        "outputId": "fed40556-423c-4166-ba6b-b194735a6fe2"
      },
      "execution_count": 60,
      "outputs": [
        {
          "output_type": "stream",
          "name": "stdout",
          "text": [
            "Digite a taxa de crescimento anual do país A (%): aklsjdbhashb\n",
            "Entrada inválida. Por favor, digite números válidos.\n",
            "Digite a taxa de crescimento anual do país A (%): 10\n",
            "Digite a taxa de crescimento anual do país B (%): 50\n",
            "Digite a população inicial do país A: 1000\n",
            "Digite a população inicial do país B: 2\n",
            "A população do país A ultrapassará ou igualará a população do país B em 0 anos.\n",
            "Deseja fazer outro cálculo? (s/n): s\n",
            "Digite a taxa de crescimento anual do país A (%): 10\n",
            "Digite a taxa de crescimento anual do país B (%): 20\n",
            "Digite a população inicial do país A: 100\n",
            "Digite a população inicial do país B: 200\n",
            "A população do país A ultrapassará ou igualará a população do país B em 7399 anos.\n"
          ]
        }
      ]
    },
    {
      "cell_type": "markdown",
      "source": [
        "6- Faça um programa que leia 5 números e informe a soma e a média dos números."
      ],
      "metadata": {
        "id": "h6Tf29KBcPxz"
      }
    },
    {
      "cell_type": "code",
      "source": [
        "i = 0\n",
        "while i < 3:\n",
        "  numero1=float(input(\"Digite a numero 1: \"))\n",
        "  numero2=float(input(\"Digite a numero 2: \"))\n",
        "  numero3=float(input(\"Digite a numero 3: \"))\n",
        "  numero4=float(input(\"Digite a numero 4: \"))\n",
        "  numero5=float(input(\"Digite a numero 5: \"))\n",
        "\n",
        "  soma = numero1 + numero2 + numero3 + numero4 + numero5\n",
        "\n",
        "  media = (numero1 + numero2 + numero3 + numero4 + numero5) / 5\n",
        "\n",
        "  print(f\"A soma dos números é {soma}\")\n",
        "  print(f\"A média dos números é {media}\")\n",
        "  i = i + 1\n",
        "\n"
      ],
      "metadata": {
        "id": "bo9EBxbfcXr5",
        "colab": {
          "base_uri": "https://localhost:8080/"
        },
        "outputId": "319a8edd-e0a9-40db-e35c-4e9b66c305c6"
      },
      "execution_count": 50,
      "outputs": [
        {
          "output_type": "stream",
          "name": "stdout",
          "text": [
            "Digite a numero 1: 1\n",
            "Digite a numero 2: 2\n",
            "Digite a numero 3: 3\n",
            "Digite a numero 4: 4\n",
            "Digite a numero 5: 5\n",
            "A soma dos números é 15.0\n",
            "A média dos números é 3.0\n",
            "Digite a numero 1: 12\n",
            "Digite a numero 2: 458\n",
            "Digite a numero 3: 78\n",
            "Digite a numero 4: 88\n",
            "Digite a numero 5: 5\n",
            "A soma dos números é 641.0\n",
            "A média dos números é 128.2\n",
            "Digite a numero 1: 10\n",
            "Digite a numero 2: 10\n",
            "Digite a numero 3: 10\n",
            "Digite a numero 4: 10\n",
            "Digite a numero 5: 10\n",
            "A soma dos números é 50.0\n",
            "A média dos números é 10.0\n"
          ]
        }
      ]
    },
    {
      "cell_type": "markdown",
      "source": [
        "7- Faça um programa que receba dois números inteiros e gere os números inteiros que estão no intervalo compreendido por eles."
      ],
      "metadata": {
        "id": "vlg_Q0cGcYXS"
      }
    },
    {
      "cell_type": "code",
      "source": [
        "numero1=int(input(\"Digite a numero 1: \"))\n",
        "numero2=int(input(\"Digite a numero 2: \"))\n",
        "\n",
        "for i in range(numero1, numero2):\n",
        "  print(i)"
      ],
      "metadata": {
        "id": "QDjbRI91cdY6",
        "colab": {
          "base_uri": "https://localhost:8080/"
        },
        "outputId": "da569f98-50ce-41cb-ee69-c1e55de707e2"
      },
      "execution_count": 52,
      "outputs": [
        {
          "output_type": "stream",
          "name": "stdout",
          "text": [
            "Digite a numero 1: 1\n",
            "Digite a numero 2: 10\n",
            "1\n",
            "2\n",
            "3\n",
            "4\n",
            "5\n",
            "6\n",
            "7\n",
            "8\n",
            "9\n"
          ]
        }
      ]
    },
    {
      "cell_type": "markdown",
      "source": [
        "8- Altere o programa anterior para mostrar no final a soma dos números."
      ],
      "metadata": {
        "id": "x19NxgY8cd-6"
      }
    },
    {
      "cell_type": "code",
      "source": [
        "numero1=int(input(\"Digite a numero 1: \"))\n",
        "numero2=int(input(\"Digite a numero 2: \"))\n",
        "soma = 0\n",
        "\n",
        "for i in range(numero1, numero2):\n",
        "  soma = soma + i\n",
        "\n",
        "print(soma)"
      ],
      "metadata": {
        "id": "BAJ0KSvVciHy",
        "colab": {
          "base_uri": "https://localhost:8080/"
        },
        "outputId": "6b6991d9-ab5d-46c1-8402-6698a259fae0"
      },
      "execution_count": 56,
      "outputs": [
        {
          "output_type": "stream",
          "name": "stdout",
          "text": [
            "Digite a numero 1: 1\n",
            "Digite a numero 2: 10\n",
            "45\n"
          ]
        }
      ]
    },
    {
      "cell_type": "markdown",
      "source": [
        "9- Faça um programa que peça para n pessoas a sua idade, ao final o programa devera verificar se a média de idade da turma varia entre 0 e 25,26 e 60 e maior que 60; e então, dizer se a turma é jovem, adulta ou idosa, conforme a média calculada."
      ],
      "metadata": {
        "id": "7RbW-aJeci3q"
      }
    },
    {
      "cell_type": "code",
      "source": [
        "num_pessoas = int(input(\"Digite o número de pessoas: \"))\n",
        "idades = []\n",
        "for i in range(num_pessoas):\n",
        "  idade = int(input(f\"Digite a idade da {i+1}ª pessoa: \"))\n",
        "  idades.append(idade)\n",
        "\n",
        "media_idade = sum(idades) / num_pessoas\n",
        "\n",
        "if media_idade <= 25:\n",
        "  print(\"A turma é jovem.\")\n",
        "elif media_idade <= 60:\n",
        "  print(\"A turma é adulta.\")\n",
        "else:\n",
        "  print(\"A turma é idosa.\")\n"
      ],
      "metadata": {
        "id": "wFZ0d96Wc0Oy",
        "colab": {
          "base_uri": "https://localhost:8080/"
        },
        "outputId": "35c77e88-e346-491a-828b-10e36a4fbf78"
      },
      "execution_count": 57,
      "outputs": [
        {
          "output_type": "stream",
          "name": "stdout",
          "text": [
            "Digite o número de pessoas: 3\n",
            "Digite a idade da 1ª pessoa: 10\n",
            "Digite a idade da 2ª pessoa: 15\n",
            "Digite a idade da 3ª pessoa: 20\n",
            "A turma é jovem.\n"
          ]
        }
      ]
    },
    {
      "cell_type": "markdown",
      "source": [
        "10- Numa eleição existem três candidatos. Faça um programa que peça o número total de eleitores. Peça para cada eleitor votar e ao final mostrar o número de votos de cada candidato."
      ],
      "metadata": {
        "id": "NWJ9HcrRc1Qh"
      }
    },
    {
      "cell_type": "code",
      "source": [
        "num_eleitores = int(input(\"Digite o número total de eleitores: \"))\n",
        "votos_candidato1 = 0\n",
        "votos_candidato2 = 0\n",
        "votos_candidato3 = 0\n",
        "\n",
        "for i in range(num_eleitores):\n",
        "  voto = int(input(f\"Digite o número do candidato que deseja votar (1, 2 ou 3): \"))\n",
        "  if voto == 1:\n",
        "    votos_candidato1 += 1\n",
        "  elif voto == 2:\n",
        "    votos_candidato2 += 1\n",
        "  elif voto == 3:\n",
        "    votos_candidato3 += 1\n",
        "  else:\n",
        "    print(\"Voto inválido.\")\n",
        "\n",
        "print(f\"Candidato 1: {votos_candidato1} votos\")\n",
        "print(f\"Candidato 2: {votos_candidato2} votos\")\n",
        "print(f\"Candidato 3: {votos_candidato3} votos\")\n"
      ],
      "metadata": {
        "id": "0p-RQr8Xc68K",
        "colab": {
          "base_uri": "https://localhost:8080/"
        },
        "outputId": "8b51213e-d88a-476d-a5be-fee985843dbb"
      },
      "execution_count": 58,
      "outputs": [
        {
          "output_type": "stream",
          "name": "stdout",
          "text": [
            "Digite o número total de eleitores: 5\n",
            "Digite o número do candidato que deseja votar (1, 2 ou 3): 1\n",
            "Digite o número do candidato que deseja votar (1, 2 ou 3): 2\n",
            "Digite o número do candidato que deseja votar (1, 2 ou 3): 3\n",
            "Digite o número do candidato que deseja votar (1, 2 ou 3): 1\n",
            "Digite o número do candidato que deseja votar (1, 2 ou 3): 3\n",
            "Candidato 1: 2 votos\n",
            "Candidato 2: 1 votos\n",
            "Candidato 3: 2 votos\n"
          ]
        }
      ]
    }
  ]
}